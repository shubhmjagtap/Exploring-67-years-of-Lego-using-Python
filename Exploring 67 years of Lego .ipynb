{
 "cells": [
  {
   "cell_type": "code",
   "execution_count": 1,
   "metadata": {},
   "outputs": [],
   "source": [
    "import pandas as pd\n",
    "%matplotlib inline\n",
    "colors = pd.read_csv('colors.csv')"
   ]
  },
  {
   "cell_type": "code",
   "execution_count": 3,
   "metadata": {},
   "outputs": [
    {
     "name": "stdout",
     "output_type": "stream",
     "text": [
      "<class 'pandas.core.frame.DataFrame'>\n",
      "RangeIndex: 135 entries, 0 to 134\n",
      "Data columns (total 4 columns):\n",
      "id          135 non-null int64\n",
      "name        135 non-null object\n",
      "rgb         135 non-null object\n",
      "is_trans    135 non-null object\n",
      "dtypes: int64(1), object(3)\n",
      "memory usage: 4.3+ KB\n"
     ]
    }
   ],
   "source": [
    "colors.info()"
   ]
  },
  {
   "cell_type": "code",
   "execution_count": 4,
   "metadata": {},
   "outputs": [
    {
     "data": {
      "text/html": [
       "<div>\n",
       "<style scoped>\n",
       "    .dataframe tbody tr th:only-of-type {\n",
       "        vertical-align: middle;\n",
       "    }\n",
       "\n",
       "    .dataframe tbody tr th {\n",
       "        vertical-align: top;\n",
       "    }\n",
       "\n",
       "    .dataframe thead th {\n",
       "        text-align: right;\n",
       "    }\n",
       "</style>\n",
       "<table border=\"1\" class=\"dataframe\">\n",
       "  <thead>\n",
       "    <tr style=\"text-align: right;\">\n",
       "      <th></th>\n",
       "      <th>id</th>\n",
       "    </tr>\n",
       "  </thead>\n",
       "  <tbody>\n",
       "    <tr>\n",
       "      <th>count</th>\n",
       "      <td>135.000000</td>\n",
       "    </tr>\n",
       "    <tr>\n",
       "      <th>mean</th>\n",
       "      <td>253.037037</td>\n",
       "    </tr>\n",
       "    <tr>\n",
       "      <th>std</th>\n",
       "      <td>878.441466</td>\n",
       "    </tr>\n",
       "    <tr>\n",
       "      <th>min</th>\n",
       "      <td>-1.000000</td>\n",
       "    </tr>\n",
       "    <tr>\n",
       "      <th>25%</th>\n",
       "      <td>34.500000</td>\n",
       "    </tr>\n",
       "    <tr>\n",
       "      <th>50%</th>\n",
       "      <td>85.000000</td>\n",
       "    </tr>\n",
       "    <tr>\n",
       "      <th>75%</th>\n",
       "      <td>231.000000</td>\n",
       "    </tr>\n",
       "    <tr>\n",
       "      <th>max</th>\n",
       "      <td>9999.000000</td>\n",
       "    </tr>\n",
       "  </tbody>\n",
       "</table>\n",
       "</div>"
      ],
      "text/plain": [
       "                id\n",
       "count   135.000000\n",
       "mean    253.037037\n",
       "std     878.441466\n",
       "min      -1.000000\n",
       "25%      34.500000\n",
       "50%      85.000000\n",
       "75%     231.000000\n",
       "max    9999.000000"
      ]
     },
     "execution_count": 4,
     "metadata": {},
     "output_type": "execute_result"
    }
   ],
   "source": [
    "colors.describe()"
   ]
  },
  {
   "cell_type": "code",
   "execution_count": 5,
   "metadata": {},
   "outputs": [
    {
     "data": {
      "text/plain": [
       "id          0\n",
       "name        0\n",
       "rgb         0\n",
       "is_trans    0\n",
       "dtype: int64"
      ]
     },
     "execution_count": 5,
     "metadata": {},
     "output_type": "execute_result"
    }
   ],
   "source": [
    "colors.isnull().sum()"
   ]
  },
  {
   "cell_type": "code",
   "execution_count": 6,
   "metadata": {},
   "outputs": [
    {
     "data": {
      "text/html": [
       "<div>\n",
       "<style scoped>\n",
       "    .dataframe tbody tr th:only-of-type {\n",
       "        vertical-align: middle;\n",
       "    }\n",
       "\n",
       "    .dataframe tbody tr th {\n",
       "        vertical-align: top;\n",
       "    }\n",
       "\n",
       "    .dataframe thead th {\n",
       "        text-align: right;\n",
       "    }\n",
       "</style>\n",
       "<table border=\"1\" class=\"dataframe\">\n",
       "  <thead>\n",
       "    <tr style=\"text-align: right;\">\n",
       "      <th></th>\n",
       "      <th>id</th>\n",
       "      <th>name</th>\n",
       "      <th>rgb</th>\n",
       "      <th>is_trans</th>\n",
       "    </tr>\n",
       "  </thead>\n",
       "  <tbody>\n",
       "    <tr>\n",
       "      <th>0</th>\n",
       "      <td>-1</td>\n",
       "      <td>Unknown</td>\n",
       "      <td>0033B2</td>\n",
       "      <td>f</td>\n",
       "    </tr>\n",
       "    <tr>\n",
       "      <th>1</th>\n",
       "      <td>0</td>\n",
       "      <td>Black</td>\n",
       "      <td>05131D</td>\n",
       "      <td>f</td>\n",
       "    </tr>\n",
       "    <tr>\n",
       "      <th>2</th>\n",
       "      <td>1</td>\n",
       "      <td>Blue</td>\n",
       "      <td>0055BF</td>\n",
       "      <td>f</td>\n",
       "    </tr>\n",
       "    <tr>\n",
       "      <th>3</th>\n",
       "      <td>2</td>\n",
       "      <td>Green</td>\n",
       "      <td>237841</td>\n",
       "      <td>f</td>\n",
       "    </tr>\n",
       "    <tr>\n",
       "      <th>4</th>\n",
       "      <td>3</td>\n",
       "      <td>Dark Turquoise</td>\n",
       "      <td>008F9B</td>\n",
       "      <td>f</td>\n",
       "    </tr>\n",
       "  </tbody>\n",
       "</table>\n",
       "</div>"
      ],
      "text/plain": [
       "   id            name     rgb is_trans\n",
       "0  -1         Unknown  0033B2        f\n",
       "1   0           Black  05131D        f\n",
       "2   1            Blue  0055BF        f\n",
       "3   2           Green  237841        f\n",
       "4   3  Dark Turquoise  008F9B        f"
      ]
     },
     "execution_count": 6,
     "metadata": {},
     "output_type": "execute_result"
    }
   ],
   "source": [
    "colors.head()"
   ]
  },
  {
   "cell_type": "code",
   "execution_count": 7,
   "metadata": {},
   "outputs": [
    {
     "name": "stdout",
     "output_type": "stream",
     "text": [
      "135\n"
     ]
    }
   ],
   "source": [
    "# To see number of colors\n",
    "num_colors = colors.shape[0]\n",
    "print(num_colors)"
   ]
  },
  {
   "cell_type": "code",
   "execution_count": 11,
   "metadata": {},
   "outputs": [
    {
     "name": "stdout",
     "output_type": "stream",
     "text": [
      "       id                          name     rgb is_trans\n",
      "0      -1                       Unknown  0033B2        f\n",
      "1       0                         Black  05131D        f\n",
      "2       1                          Blue  0055BF        f\n",
      "3       2                         Green  237841        f\n",
      "4       3                Dark Turquoise  008F9B        f\n",
      "5       4                           Red  C91A09        f\n",
      "6       5                     Dark Pink  C870A0        f\n",
      "7       6                         Brown  583927        f\n",
      "8       7                    Light Gray  9BA19D        f\n",
      "9       8                     Dark Gray  6D6E5C        f\n",
      "10      9                    Light Blue  B4D2E3        f\n",
      "11     10                  Bright Green  4B9F4A        f\n",
      "12     11               Light Turquoise  55A5AF        f\n",
      "13     12                        Salmon  F2705E        f\n",
      "14     13                          Pink  FC97AC        f\n",
      "15     14                        Yellow  F2CD37        f\n",
      "16     15                         White  FFFFFF        f\n",
      "17     17                   Light Green  C2DAB8        f\n",
      "18     18                  Light Yellow  FBE696        f\n",
      "19     19                           Tan  E4CD9E        f\n",
      "20     20                  Light Violet  C9CAE2        f\n",
      "21     21           Glow In Dark Opaque  D4D5C9        f\n",
      "22     22                        Purple  81007B        f\n",
      "23     23              Dark Blue-Violet  2032B0        f\n",
      "24     25                        Orange  FE8A18        f\n",
      "25     26                       Magenta  923978        f\n",
      "26     27                          Lime  BBE90B        f\n",
      "27     28                      Dark Tan  958A73        f\n",
      "28     29                   Bright Pink  E4ADC8        f\n",
      "29     30               Medium Lavender  AC78BA        f\n",
      "..    ...                           ...     ...      ...\n",
      "105   294            Glow In Dark Trans  BDC6AD        t\n",
      "106   297                    Pearl Gold  AA7F2E        f\n",
      "107   308                    Dark Brown  352100        f\n",
      "108   313                   Maersk Blue  3592C3        f\n",
      "109   320                      Dark Red  720E0F        f\n",
      "110   321                    Dark Azure  078BC9        f\n",
      "111   322                  Medium Azure  36AEBF        f\n",
      "112   323                    Light Aqua  ADC3C0        f\n",
      "113   326                   Olive Green  9B9A5A        f\n",
      "114   334                   Chrome Gold  BBA53D        f\n",
      "115   335                      Sand Red  D67572        f\n",
      "116   351              Medium Dark Pink  F785B1        f\n",
      "117   366                  Earth Orange  FA9C1C        f\n",
      "118   373                   Sand Purple  845E84        f\n",
      "119   378                    Sand Green  A0BCAC        f\n",
      "120   379                     Sand Blue  6074A1        f\n",
      "121   383                 Chrome Silver  E0E0E0        f\n",
      "122   450                Fabuland Brown  B67B50        f\n",
      "123   462                 Medium Orange  FFA70B        f\n",
      "124   484                   Dark Orange  A95500        f\n",
      "125   503               Very Light Gray  E6E3DA        f\n",
      "126  1000            Glow in Dark White  D9D9D9        f\n",
      "127  1001                 Medium Violet  9391E4        f\n",
      "128  1002      Glitter Trans-Neon Green  C0F500        t\n",
      "129  1003      Glitter Trans-Light Blue  68BCC5        t\n",
      "130  1004  Trans Flame Yellowish Orange  FCB76D        t\n",
      "131  1005             Trans Fire Yellow  FBE890        t\n",
      "132  1006        Trans Light Royal Blue  B4D4F7        t\n",
      "133  1007                 Reddish Lilac  8E5597        f\n",
      "134  9999                    [No Color]  05131D        f\n",
      "\n",
      "[135 rows x 4 columns]\n"
     ]
    }
   ],
   "source": [
    "df = pd.DataFrame(colors)\n",
    "print (df)"
   ]
  },
  {
   "cell_type": "code",
   "execution_count": 25,
   "metadata": {},
   "outputs": [
    {
     "name": "stdout",
     "output_type": "stream",
     "text": [
      "135\n"
     ]
    }
   ],
   "source": [
    "print(df['name'].nunique())"
   ]
  },
  {
   "cell_type": "code",
   "execution_count": 28,
   "metadata": {},
   "outputs": [
    {
     "name": "stdout",
     "output_type": "stream",
     "text": [
      "<class 'pandas.core.frame.DataFrame'>\n",
      "RangeIndex: 11866 entries, 0 to 11865\n",
      "Data columns (total 5 columns):\n",
      "set_num      11866 non-null object\n",
      "name         11866 non-null object\n",
      "year         11866 non-null int64\n",
      "theme_id     11866 non-null int64\n",
      "num_parts    11866 non-null int64\n",
      "dtypes: int64(3), object(2)\n",
      "memory usage: 463.6+ KB\n"
     ]
    }
   ],
   "source": [
    "sets = pd.read_csv('sets.csv')\n",
    "sets.info()"
   ]
  },
  {
   "cell_type": "code",
   "execution_count": 29,
   "metadata": {},
   "outputs": [
    {
     "data": {
      "text/html": [
       "<div>\n",
       "<style scoped>\n",
       "    .dataframe tbody tr th:only-of-type {\n",
       "        vertical-align: middle;\n",
       "    }\n",
       "\n",
       "    .dataframe tbody tr th {\n",
       "        vertical-align: top;\n",
       "    }\n",
       "\n",
       "    .dataframe thead th {\n",
       "        text-align: right;\n",
       "    }\n",
       "</style>\n",
       "<table border=\"1\" class=\"dataframe\">\n",
       "  <thead>\n",
       "    <tr style=\"text-align: right;\">\n",
       "      <th></th>\n",
       "      <th>year</th>\n",
       "      <th>theme_id</th>\n",
       "      <th>num_parts</th>\n",
       "    </tr>\n",
       "  </thead>\n",
       "  <tbody>\n",
       "    <tr>\n",
       "      <th>count</th>\n",
       "      <td>11866.000000</td>\n",
       "      <td>11866.000000</td>\n",
       "      <td>11866.000000</td>\n",
       "    </tr>\n",
       "    <tr>\n",
       "      <th>mean</th>\n",
       "      <td>2002.213720</td>\n",
       "      <td>314.366509</td>\n",
       "      <td>165.144783</td>\n",
       "    </tr>\n",
       "    <tr>\n",
       "      <th>std</th>\n",
       "      <td>13.499643</td>\n",
       "      <td>179.385645</td>\n",
       "      <td>336.382317</td>\n",
       "    </tr>\n",
       "    <tr>\n",
       "      <th>min</th>\n",
       "      <td>1950.000000</td>\n",
       "      <td>1.000000</td>\n",
       "      <td>-1.000000</td>\n",
       "    </tr>\n",
       "    <tr>\n",
       "      <th>25%</th>\n",
       "      <td>1997.000000</td>\n",
       "      <td>165.000000</td>\n",
       "      <td>10.250000</td>\n",
       "    </tr>\n",
       "    <tr>\n",
       "      <th>50%</th>\n",
       "      <td>2006.000000</td>\n",
       "      <td>327.000000</td>\n",
       "      <td>46.000000</td>\n",
       "    </tr>\n",
       "    <tr>\n",
       "      <th>75%</th>\n",
       "      <td>2013.000000</td>\n",
       "      <td>473.000000</td>\n",
       "      <td>174.000000</td>\n",
       "    </tr>\n",
       "    <tr>\n",
       "      <th>max</th>\n",
       "      <td>2017.000000</td>\n",
       "      <td>619.000000</td>\n",
       "      <td>5922.000000</td>\n",
       "    </tr>\n",
       "  </tbody>\n",
       "</table>\n",
       "</div>"
      ],
      "text/plain": [
       "               year      theme_id     num_parts\n",
       "count  11866.000000  11866.000000  11866.000000\n",
       "mean    2002.213720    314.366509    165.144783\n",
       "std       13.499643    179.385645    336.382317\n",
       "min     1950.000000      1.000000     -1.000000\n",
       "25%     1997.000000    165.000000     10.250000\n",
       "50%     2006.000000    327.000000     46.000000\n",
       "75%     2013.000000    473.000000    174.000000\n",
       "max     2017.000000    619.000000   5922.000000"
      ]
     },
     "execution_count": 29,
     "metadata": {},
     "output_type": "execute_result"
    }
   ],
   "source": [
    "sets.describe()"
   ]
  },
  {
   "cell_type": "code",
   "execution_count": 30,
   "metadata": {},
   "outputs": [
    {
     "data": {
      "text/html": [
       "<div>\n",
       "<style scoped>\n",
       "    .dataframe tbody tr th:only-of-type {\n",
       "        vertical-align: middle;\n",
       "    }\n",
       "\n",
       "    .dataframe tbody tr th {\n",
       "        vertical-align: top;\n",
       "    }\n",
       "\n",
       "    .dataframe thead th {\n",
       "        text-align: right;\n",
       "    }\n",
       "</style>\n",
       "<table border=\"1\" class=\"dataframe\">\n",
       "  <thead>\n",
       "    <tr style=\"text-align: right;\">\n",
       "      <th></th>\n",
       "      <th>set_num</th>\n",
       "      <th>name</th>\n",
       "      <th>year</th>\n",
       "      <th>theme_id</th>\n",
       "      <th>num_parts</th>\n",
       "    </tr>\n",
       "  </thead>\n",
       "  <tbody>\n",
       "    <tr>\n",
       "      <th>0</th>\n",
       "      <td>00-1</td>\n",
       "      <td>Weetabix Castle</td>\n",
       "      <td>1970</td>\n",
       "      <td>414</td>\n",
       "      <td>471</td>\n",
       "    </tr>\n",
       "    <tr>\n",
       "      <th>1</th>\n",
       "      <td>0011-2</td>\n",
       "      <td>Town Mini-Figures</td>\n",
       "      <td>1978</td>\n",
       "      <td>84</td>\n",
       "      <td>12</td>\n",
       "    </tr>\n",
       "    <tr>\n",
       "      <th>2</th>\n",
       "      <td>0011-3</td>\n",
       "      <td>Castle 2 for 1 Bonus Offer</td>\n",
       "      <td>1987</td>\n",
       "      <td>199</td>\n",
       "      <td>2</td>\n",
       "    </tr>\n",
       "    <tr>\n",
       "      <th>3</th>\n",
       "      <td>0012-1</td>\n",
       "      <td>Space Mini-Figures</td>\n",
       "      <td>1979</td>\n",
       "      <td>143</td>\n",
       "      <td>12</td>\n",
       "    </tr>\n",
       "    <tr>\n",
       "      <th>4</th>\n",
       "      <td>0013-1</td>\n",
       "      <td>Space Mini-Figures</td>\n",
       "      <td>1979</td>\n",
       "      <td>143</td>\n",
       "      <td>12</td>\n",
       "    </tr>\n",
       "  </tbody>\n",
       "</table>\n",
       "</div>"
      ],
      "text/plain": [
       "  set_num                        name  year  theme_id  num_parts\n",
       "0    00-1             Weetabix Castle  1970       414        471\n",
       "1  0011-2           Town Mini-Figures  1978        84         12\n",
       "2  0011-3  Castle 2 for 1 Bonus Offer  1987       199          2\n",
       "3  0012-1          Space Mini-Figures  1979       143         12\n",
       "4  0013-1          Space Mini-Figures  1979       143         12"
      ]
     },
     "execution_count": 30,
     "metadata": {},
     "output_type": "execute_result"
    }
   ],
   "source": [
    "sets.head()"
   ]
  },
  {
   "cell_type": "code",
   "execution_count": 40,
   "metadata": {},
   "outputs": [
    {
     "name": "stdout",
     "output_type": "stream",
     "text": [
      "year\n",
      "1950     10.142857\n",
      "1953     16.500000\n",
      "1954     12.357143\n",
      "1955     36.857143\n",
      "1956     18.500000\n",
      "1957     42.619048\n",
      "1958     44.452381\n",
      "1959     16.250000\n",
      "1960    175.333333\n",
      "1961     70.588235\n",
      "1962     81.750000\n",
      "1963     33.333333\n",
      "1964     82.636364\n",
      "1965    107.100000\n",
      "1966     40.651685\n",
      "1967     98.666667\n",
      "1968    127.200000\n",
      "1969     64.594203\n",
      "1970     84.793103\n",
      "1971     67.022222\n",
      "1972    102.842105\n",
      "1973    103.367647\n",
      "1974    116.769231\n",
      "1975    155.225806\n",
      "1976    153.029412\n",
      "1977     91.500000\n",
      "1978    146.616438\n",
      "1979    105.414634\n",
      "1980    126.636364\n",
      "1981     97.835443\n",
      "           ...    \n",
      "1988    144.250000\n",
      "1989    102.061404\n",
      "1990    202.035294\n",
      "1991    166.424528\n",
      "1992    119.617391\n",
      "1993    148.432432\n",
      "1994    127.640625\n",
      "1995    179.039062\n",
      "1996    201.770833\n",
      "1997    129.221649\n",
      "1998    141.126154\n",
      "1999    105.543333\n",
      "2000    104.376147\n",
      "2001    104.365782\n",
      "2002    115.700224\n",
      "2003    159.681928\n",
      "2004    138.862534\n",
      "2005    198.745455\n",
      "2006    246.904594\n",
      "2007    229.025078\n",
      "2008    231.644699\n",
      "2009    196.898263\n",
      "2010    210.646396\n",
      "2011    160.452191\n",
      "2012    149.808130\n",
      "2013    181.359191\n",
      "2014    169.320280\n",
      "2015    200.223881\n",
      "2016    248.945813\n",
      "2017    300.121277\n",
      "Name: num_parts, Length: 66, dtype: float64\n"
     ]
    }
   ],
   "source": [
    "parts_by_year = sets.groupby('year').mean()['num_parts']\n",
    "print(parts_by_year)"
   ]
  },
  {
   "cell_type": "code",
   "execution_count": 37,
   "metadata": {},
   "outputs": [
    {
     "data": {
      "text/plain": [
       "<matplotlib.axes._subplots.AxesSubplot at 0x19df411ccf8>"
      ]
     },
     "execution_count": 37,
     "metadata": {},
     "output_type": "execute_result"
    },
    {
     "data": {
      "image/png": "[encoded data removed]",
      "text/plain": [
       "<Figure size 432x288 with 1 Axes>"
      ]
     },
     "metadata": {
      "needs_background": "light"
     },
     "output_type": "display_data"
    }
   ],
   "source": [
    "parts_by_year.plot()"
   ]
  },
  {
   "cell_type": "code",
   "execution_count": 38,
   "metadata": {},
   "outputs": [
    {
     "data": {
      "text/html": [
       "<div>\n",
       "<style scoped>\n",
       "    .dataframe tbody tr th:only-of-type {\n",
       "        vertical-align: middle;\n",
       "    }\n",
       "\n",
       "    .dataframe tbody tr th {\n",
       "        vertical-align: top;\n",
       "    }\n",
       "\n",
       "    .dataframe thead th {\n",
       "        text-align: right;\n",
       "    }\n",
       "</style>\n",
       "<table border=\"1\" class=\"dataframe\">\n",
       "  <thead>\n",
       "    <tr style=\"text-align: right;\">\n",
       "      <th></th>\n",
       "      <th>theme_id</th>\n",
       "    </tr>\n",
       "    <tr>\n",
       "      <th>year</th>\n",
       "      <th></th>\n",
       "    </tr>\n",
       "  </thead>\n",
       "  <tbody>\n",
       "    <tr>\n",
       "      <th>1950</th>\n",
       "      <td>7</td>\n",
       "    </tr>\n",
       "    <tr>\n",
       "      <th>1953</th>\n",
       "      <td>4</td>\n",
       "    </tr>\n",
       "    <tr>\n",
       "      <th>1954</th>\n",
       "      <td>14</td>\n",
       "    </tr>\n",
       "    <tr>\n",
       "      <th>1955</th>\n",
       "      <td>28</td>\n",
       "    </tr>\n",
       "    <tr>\n",
       "      <th>1956</th>\n",
       "      <td>12</td>\n",
       "    </tr>\n",
       "  </tbody>\n",
       "</table>\n",
       "</div>"
      ],
      "text/plain": [
       "      theme_id\n",
       "year          \n",
       "1950         7\n",
       "1953         4\n",
       "1954        14\n",
       "1955        28\n",
       "1956        12"
      ]
     },
     "execution_count": 38,
     "metadata": {},
     "output_type": "execute_result"
    }
   ],
   "source": [
    "themes_by_year = sets[['year', 'theme_id']].groupby('year').agg({\"theme_id\": pd.Series.count})\n",
    "themes_by_year.head()"
   ]
  },
  {
   "cell_type": "code",
   "execution_count": null,
   "metadata": {},
   "outputs": [],
   "source": []
  }
 ],
 "metadata": {
  "kernelspec": {
   "display_name": "Python 3",
   "language": "python",
   "name": "python3"
  },
  "language_info": {
   "codemirror_mode": {
    "name": "ipython",
    "version": 3
   },
   "file_extension": ".py",
   "mimetype": "text/x-python",
   "name": "python",
   "nbconvert_exporter": "python",
   "pygments_lexer": "ipython3",
   "version": "3.7.3"
  }
 },
 "nbformat": 4,
 "nbformat_minor": 2
}
